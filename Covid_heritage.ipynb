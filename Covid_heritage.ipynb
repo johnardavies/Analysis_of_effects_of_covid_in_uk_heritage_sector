{
 "cells": [
  {
   "cell_type": "markdown",
   "metadata": {},
   "source": [
    "# Analysis of the effects of Covid19 on Heritage organisations"
   ]
  },
  {
   "cell_type": "markdown",
   "metadata": {},
   "source": [
    "This notebook analyses the results of the effects of Covid19 on Heritage organisations.\n",
    "This is based on 803 anonymised survey responses that Historic England have made available at https://historicengland.org.uk/coronavirus/heritage-sector/survey/"
   ]
  },
  {
   "cell_type": "markdown",
   "metadata": {},
   "source": [
    "It covers: \n",
    "1. Setting up data and libraries (No findings in this section) \n",
    "2. Survey respondent characteristics\n",
    "3. The effects of Covid on respondents organisations \n",
    "4. The Covid mitigation measures organisations are expecting to engage with\n",
    "5. Respondents views on effects of Covid Lockdown with and without the support measures announced¶"
   ]
  },
  {
   "cell_type": "markdown",
   "metadata": {},
   "source": [
    "# 1. Setting things up"
   ]
  },
  {
   "cell_type": "code",
   "execution_count": 1,
   "metadata": {},
   "outputs": [],
   "source": [
    "import pandas as pd\n",
    "import numpy\n",
    "import matplotlib as plt\n",
    "from pylab import *\n",
    "from plotnine import * \n",
    "from datetime import datetime\n",
    "import seaborn as sns\n"
   ]
  },
  {
   "cell_type": "markdown",
   "metadata": {},
   "source": [
    "Read in csv, note commas were removed from source excel file to turn it into a csv"
   ]
  },
  {
   "cell_type": "code",
   "execution_count": 2,
   "metadata": {},
   "outputs": [],
   "source": [
    "df=pd.read_csv(\"Covid_19_heritage.csv\")"
   ]
  },
  {
   "cell_type": "markdown",
   "metadata": {},
   "source": [
    "List the variables in the dataset"
   ]
  },
  {
   "cell_type": "code",
   "execution_count": 3,
   "metadata": {},
   "outputs": [
    {
     "data": {
      "text/plain": [
       "['Did you respond to\\xa0the sector survey on the National Lottery Heritage Fund website?:Response',\n",
       " 'Organisation Type:Response',\n",
       " 'What is the approximate number of paid employees (full time equivalent) at your business/organisation?:Response',\n",
       " 'What is the approximate number of volunteers working with your business/organisation?:Response',\n",
       " 'Area:Archaeology',\n",
       " 'Area:Archives',\n",
       " 'Area:Community heritage',\n",
       " 'Area:Conservation Architecture/Project Management',\n",
       " 'Area:Gardens and Landscapes',\n",
       " 'Area:Historic buildings (including industrial heritage sites)',\n",
       " 'Area:Intangible (e.g. cultural traditions people’s memories dialects)',\n",
       " 'Area:Maritime and transport heritage',\n",
       " 'Area:Places of worship',\n",
       " 'Area:Planning',\n",
       " 'Area:Public parks',\n",
       " 'Area:My organisation does not work in or represent any heritage areas',\n",
       " 'Area:Other',\n",
       " 'Geography:All English regions',\n",
       " 'Geography:East Midlands',\n",
       " 'Geography:West Midlands',\n",
       " 'Geography:East of England',\n",
       " 'Geography:London',\n",
       " 'Geography:South East of England',\n",
       " 'Geography:South West of England',\n",
       " 'Geography:North East of England',\n",
       " 'Geography:North West of England',\n",
       " 'Geography:Yorkshire and the Humber',\n",
       " 'Effects:Loss or postponement of work',\n",
       " 'Effects:Business-critical staff absence',\n",
       " 'Effects:Lack of available volunteers',\n",
       " 'Effects:Postponement/cancellation of planned income-generating or marketing events',\n",
       " 'Effects:Reduced opening/business hours',\n",
       " 'Effects:Supply chain problems',\n",
       " 'Effects:Increased overheads',\n",
       " 'Effects:Reduced visitor numbers',\n",
       " 'Effects:Have had to furlough staff',\n",
       " 'Effects:Have had to lay staff off',\n",
       " 'Effects:Additional costs e.g.  investment in IT/home working',\n",
       " 'Effects:Delayed payment by debtors',\n",
       " 'Measures expected:Coronavirus Job Retention Scheme',\n",
       " 'Measures expected:Deferring VAT and Self-Assessment payments',\n",
       " 'Measures expected:Self-employment Income Support Scheme',\n",
       " 'Measures expected:Statutory Sick Pay relief package for small and medium sized businesses (SMEs)',\n",
       " 'Measures expected:12-month business rates holiday for all retail hospitality leisure and nursery businesses in England',\n",
       " 'Measures expected:Small business grant funding of £10000 for all business in receipt of small business rate relief or rural rate relief',\n",
       " 'Measures expected:Grant funding of £25000 for retail hospitality and leisure businesses with property with a rateable value between £15000 and £51000',\n",
       " 'Measures expected:Coronavirus Business Interruption Loan Scheme offering loans of up to £5 million for SMEs through the British Business Bank',\n",
       " 'Measures expected:Lending facility from the Bank of England to help support liquidity among larger firms helping them bridge coronavirus disruption to their cash flows through loans',\n",
       " 'Measures expected:HMRC Time To Pay Scheme',\n",
       " 'Measures expected:Awaiting further clarification of the Government support',\n",
       " 'Continued operation if the current restrictions continue until September 2020 with measures:Response',\n",
       " 'Continued operation if the current restrictions continue until September 2020 without measures:Response',\n",
       " 'Level of risk:Response',\n",
       " 'Opportunities to work better:Response']"
      ]
     },
     "execution_count": 3,
     "metadata": {},
     "output_type": "execute_result"
    }
   ],
   "source": [
    "list(df)"
   ]
  },
  {
   "cell_type": "markdown",
   "metadata": {},
   "source": [
    "Relabelling some of the terms that repeat in the column names and columns to make it easier to read"
   ]
  },
  {
   "cell_type": "code",
   "execution_count": 4,
   "metadata": {},
   "outputs": [],
   "source": [
    "df.columns = df.columns.map(lambda col: col.replace('Area:', ''))\n",
    "\n",
    "df.columns = df.columns.map(lambda col: col.replace('Geography:', ''))\n",
    "\n",
    "df.columns = df.columns.map(lambda col: col.replace('Effects:', ''))\n",
    "\n",
    "df.columns = df.columns.map(lambda col: col.replace('Measures expected:', ''))\n",
    "\n",
    "df= df.replace({'Area:':''}, regex=True)\n",
    "df=df.replace({'Effects:':''}, regex=True)\n",
    "df=df.replace({'Geography:':''}, regex=True)\n",
    "df=df.replace({'Measures expected:':''}, regex=True)\n",
    "\n"
   ]
  },
  {
   "cell_type": "markdown",
   "metadata": {},
   "source": [
    "Sample size"
   ]
  },
  {
   "cell_type": "code",
   "execution_count": 5,
   "metadata": {},
   "outputs": [],
   "source": [
    "sample_size=df.shape[0]"
   ]
  },
  {
   "cell_type": "markdown",
   "metadata": {},
   "source": [
    "Functions that get reused to produce the tables"
   ]
  },
  {
   "cell_type": "code",
   "execution_count": 6,
   "metadata": {},
   "outputs": [],
   "source": [
    "#Counts the survey responses for the different categories and calculates as a share of the sample\n",
    "def table_producer(x,y):\n",
    "  #Counts values and sorts the resulting table\n",
    "  table_count=x.count().reset_index(name='count').sort_values(['count'], ascending=False).reset_index(drop=True)\n",
    "  #Renames index column using variable y\n",
    "  table_count=table_count.rename(columns={\"index\": y})\n",
    "  #Calculates sample share\n",
    "  table_count['% of respondents']=(table_count['count']/sample_size).round(2)*100 \n",
    "  return table_count\n",
    "\n",
    "\n",
    "#This function counts incidence of coocurrence of issues for same respondent across sample\n",
    "#There must be a standard function that does this?\n",
    "\n",
    "def cross_count(x):\n",
    "  df_dummy=pd.get_dummies(x)\n",
    "  #Relabels the columns\n",
    "  df_dummy.columns =x.columns\n",
    "\n",
    "  l = len(df_dummy.columns)\n",
    "  #Create an empty results matrix\n",
    "  results = np.zeros((l,l))\n",
    "  #Does the counting of coocurrence should produce a symmetric matrix\n",
    "  for i, ac in enumerate(df_dummy):\n",
    "    for j, bc in enumerate(df_dummy):\n",
    "           # sums the variables when both column values are true for a given row\n",
    "           if i==j: #To avoid double counting\n",
    "             results[j,i] = (df_dummy[bc]).sum()\n",
    "           else:\n",
    "             results[j,i] = (df_dummy[ac] & df_dummy[bc]).sum()\n",
    "#Converts the results into a dataframe\n",
    "  results = pd.DataFrame(results,index=df_dummy.columns,columns=df_dummy.columns)\n",
    "  return results\n",
    "\n"
   ]
  },
  {
   "cell_type": "markdown",
   "metadata": {},
   "source": [
    "# 2. Survey respondent characteristics"
   ]
  },
  {
   "cell_type": "markdown",
   "metadata": {},
   "source": [
    "Heritage areas respondents covered"
   ]
  },
  {
   "cell_type": "code",
   "execution_count": 7,
   "metadata": {},
   "outputs": [
    {
     "data": {
      "text/html": [
       "<div>\n",
       "<style scoped>\n",
       "    .dataframe tbody tr th:only-of-type {\n",
       "        vertical-align: middle;\n",
       "    }\n",
       "\n",
       "    .dataframe tbody tr th {\n",
       "        vertical-align: top;\n",
       "    }\n",
       "\n",
       "    .dataframe thead th {\n",
       "        text-align: right;\n",
       "    }\n",
       "</style>\n",
       "<table border=\"1\" class=\"dataframe\">\n",
       "  <thead>\n",
       "    <tr style=\"text-align: right;\">\n",
       "      <th></th>\n",
       "      <th>Heritage area</th>\n",
       "      <th>count</th>\n",
       "      <th>% of respondents</th>\n",
       "    </tr>\n",
       "  </thead>\n",
       "  <tbody>\n",
       "    <tr>\n",
       "      <th>0</th>\n",
       "      <td>Historic buildings (including industrial herit...</td>\n",
       "      <td>552</td>\n",
       "      <td>69.0</td>\n",
       "    </tr>\n",
       "    <tr>\n",
       "      <th>1</th>\n",
       "      <td>Places of worship</td>\n",
       "      <td>379</td>\n",
       "      <td>47.0</td>\n",
       "    </tr>\n",
       "    <tr>\n",
       "      <th>2</th>\n",
       "      <td>Conservation Architecture/Project Management</td>\n",
       "      <td>313</td>\n",
       "      <td>39.0</td>\n",
       "    </tr>\n",
       "    <tr>\n",
       "      <th>3</th>\n",
       "      <td>Community heritage</td>\n",
       "      <td>310</td>\n",
       "      <td>39.0</td>\n",
       "    </tr>\n",
       "    <tr>\n",
       "      <th>4</th>\n",
       "      <td>Archaeology</td>\n",
       "      <td>275</td>\n",
       "      <td>34.0</td>\n",
       "    </tr>\n",
       "    <tr>\n",
       "      <th>5</th>\n",
       "      <td>Planning</td>\n",
       "      <td>214</td>\n",
       "      <td>27.0</td>\n",
       "    </tr>\n",
       "    <tr>\n",
       "      <th>6</th>\n",
       "      <td>Archives</td>\n",
       "      <td>195</td>\n",
       "      <td>24.0</td>\n",
       "    </tr>\n",
       "    <tr>\n",
       "      <th>7</th>\n",
       "      <td>Gardens and Landscapes</td>\n",
       "      <td>186</td>\n",
       "      <td>23.0</td>\n",
       "    </tr>\n",
       "    <tr>\n",
       "      <th>8</th>\n",
       "      <td>Intangible (e.g. cultural traditions people’s ...</td>\n",
       "      <td>143</td>\n",
       "      <td>18.0</td>\n",
       "    </tr>\n",
       "    <tr>\n",
       "      <th>9</th>\n",
       "      <td>Public parks</td>\n",
       "      <td>107</td>\n",
       "      <td>13.0</td>\n",
       "    </tr>\n",
       "    <tr>\n",
       "      <th>10</th>\n",
       "      <td>Other</td>\n",
       "      <td>92</td>\n",
       "      <td>11.0</td>\n",
       "    </tr>\n",
       "    <tr>\n",
       "      <th>11</th>\n",
       "      <td>Maritime and transport heritage</td>\n",
       "      <td>88</td>\n",
       "      <td>11.0</td>\n",
       "    </tr>\n",
       "    <tr>\n",
       "      <th>12</th>\n",
       "      <td>My organisation does not work in or represent ...</td>\n",
       "      <td>8</td>\n",
       "      <td>1.0</td>\n",
       "    </tr>\n",
       "  </tbody>\n",
       "</table>\n",
       "</div>"
      ],
      "text/plain": [
       "                                        Heritage area  count  % of respondents\n",
       "0   Historic buildings (including industrial herit...    552              69.0\n",
       "1                                   Places of worship    379              47.0\n",
       "2        Conservation Architecture/Project Management    313              39.0\n",
       "3                                  Community heritage    310              39.0\n",
       "4                                         Archaeology    275              34.0\n",
       "5                                            Planning    214              27.0\n",
       "6                                            Archives    195              24.0\n",
       "7                              Gardens and Landscapes    186              23.0\n",
       "8   Intangible (e.g. cultural traditions people’s ...    143              18.0\n",
       "9                                        Public parks    107              13.0\n",
       "10                                              Other     92              11.0\n",
       "11                    Maritime and transport heritage     88              11.0\n",
       "12  My organisation does not work in or represent ...      8               1.0"
      ]
     },
     "execution_count": 7,
     "metadata": {},
     "output_type": "execute_result"
    }
   ],
   "source": [
    "Areas=['Archaeology',\n",
    " 'Archives',\n",
    " 'Community heritage',\n",
    " 'Conservation Architecture/Project Management',\n",
    " 'Gardens and Landscapes',\n",
    " 'Historic buildings (including industrial heritage sites)',\n",
    " 'Intangible (e.g. cultural traditions people’s memories dialects)',\n",
    " 'Maritime and transport heritage',\n",
    " 'Places of worship',\n",
    " 'Planning',\n",
    " 'Public parks',\n",
    " 'My organisation does not work in or represent any heritage areas',\n",
    " 'Other']\n",
    "\n",
    "heritage_area= table_producer(df[Areas], 'Heritage area')\n",
    "heritage_area"
   ]
  },
  {
   "cell_type": "markdown",
   "metadata": {},
   "source": [
    "Chart of respondents by type of heritage organisation"
   ]
  },
  {
   "cell_type": "code",
   "execution_count": 8,
   "metadata": {},
   "outputs": [
    {
     "data": {
      "text/plain": [
       "Text(0, 0.5, '% of respondents')"
      ]
     },
     "execution_count": 8,
     "metadata": {},
     "output_type": "execute_result"
    },
    {
     "data": {
      "image/png": "[encoded data removed]",
      "text/plain": [
       "<Figure size 432x288 with 1 Axes>"
      ]
     },
     "metadata": {
      "needs_background": "light"
     },
     "output_type": "display_data"
    }
   ],
   "source": [
    "ax = heritage_area.plot.bar(x='Heritage area', y='% of respondents', rot=90)\n",
    "ax.set_xlabel(\"Heritage organisation\")\n",
    "ax.set_ylabel(\"% of respondents\")"
   ]
  },
  {
   "cell_type": "markdown",
   "metadata": {},
   "source": [
    "Regional areas"
   ]
  },
  {
   "cell_type": "code",
   "execution_count": 9,
   "metadata": {},
   "outputs": [
    {
     "data": {
      "text/html": [
       "<div>\n",
       "<style scoped>\n",
       "    .dataframe tbody tr th:only-of-type {\n",
       "        vertical-align: middle;\n",
       "    }\n",
       "\n",
       "    .dataframe tbody tr th {\n",
       "        vertical-align: top;\n",
       "    }\n",
       "\n",
       "    .dataframe thead th {\n",
       "        text-align: right;\n",
       "    }\n",
       "</style>\n",
       "<table border=\"1\" class=\"dataframe\">\n",
       "  <thead>\n",
       "    <tr style=\"text-align: right;\">\n",
       "      <th></th>\n",
       "      <th>Geographical region</th>\n",
       "      <th>count</th>\n",
       "      <th>% of respondents</th>\n",
       "    </tr>\n",
       "  </thead>\n",
       "  <tbody>\n",
       "    <tr>\n",
       "      <th>0</th>\n",
       "      <td>All English regions</td>\n",
       "      <td>194</td>\n",
       "      <td>24.0</td>\n",
       "    </tr>\n",
       "    <tr>\n",
       "      <th>1</th>\n",
       "      <td>South West of England</td>\n",
       "      <td>121</td>\n",
       "      <td>15.0</td>\n",
       "    </tr>\n",
       "    <tr>\n",
       "      <th>2</th>\n",
       "      <td>East of England</td>\n",
       "      <td>116</td>\n",
       "      <td>14.0</td>\n",
       "    </tr>\n",
       "    <tr>\n",
       "      <th>3</th>\n",
       "      <td>South East of England</td>\n",
       "      <td>104</td>\n",
       "      <td>13.0</td>\n",
       "    </tr>\n",
       "    <tr>\n",
       "      <th>4</th>\n",
       "      <td>London</td>\n",
       "      <td>95</td>\n",
       "      <td>12.0</td>\n",
       "    </tr>\n",
       "    <tr>\n",
       "      <th>5</th>\n",
       "      <td>West Midlands</td>\n",
       "      <td>89</td>\n",
       "      <td>11.0</td>\n",
       "    </tr>\n",
       "    <tr>\n",
       "      <th>6</th>\n",
       "      <td>North West of England</td>\n",
       "      <td>79</td>\n",
       "      <td>10.0</td>\n",
       "    </tr>\n",
       "    <tr>\n",
       "      <th>7</th>\n",
       "      <td>East Midlands</td>\n",
       "      <td>73</td>\n",
       "      <td>9.0</td>\n",
       "    </tr>\n",
       "    <tr>\n",
       "      <th>8</th>\n",
       "      <td>North East of England</td>\n",
       "      <td>50</td>\n",
       "      <td>6.0</td>\n",
       "    </tr>\n",
       "  </tbody>\n",
       "</table>\n",
       "</div>"
      ],
      "text/plain": [
       "     Geographical region  count  % of respondents\n",
       "0    All English regions    194              24.0\n",
       "1  South West of England    121              15.0\n",
       "2        East of England    116              14.0\n",
       "3  South East of England    104              13.0\n",
       "4                 London     95              12.0\n",
       "5          West Midlands     89              11.0\n",
       "6  North West of England     79              10.0\n",
       "7          East Midlands     73               9.0\n",
       "8  North East of England     50               6.0"
      ]
     },
     "execution_count": 9,
     "metadata": {},
     "output_type": "execute_result"
    }
   ],
   "source": [
    "Regional_areas=[\n",
    " 'All English regions',\n",
    " 'East Midlands',\n",
    "  'West Midlands',\n",
    " 'East of England',\n",
    " 'London',\n",
    " 'South East of England',\n",
    " 'South West of England',\n",
    " 'North East of England',\n",
    " 'North West of England']\n",
    "\n",
    "\n",
    "#Regional counts\n",
    "Regions=table_producer(df[Regional_areas],'Geographical region')\n",
    "Regions"
   ]
  },
  {
   "cell_type": "markdown",
   "metadata": {},
   "source": [
    "Chart of respondents by region of operation"
   ]
  },
  {
   "cell_type": "code",
   "execution_count": 10,
   "metadata": {},
   "outputs": [
    {
     "data": {
      "text/plain": [
       "Text(0, 0.5, '% of respondents')"
      ]
     },
     "execution_count": 10,
     "metadata": {},
     "output_type": "execute_result"
    },
    {
     "data": {
      "image/png": "[encoded data removed]",
      "text/plain": [
       "<Figure size 432x288 with 1 Axes>"
      ]
     },
     "metadata": {
      "needs_background": "light"
     },
     "output_type": "display_data"
    }
   ],
   "source": [
    "ax = Regions.plot.bar(x='Geographical region', y='% of respondents', rot=90)\n",
    "ax.set_xlabel(\"Region of operation\")\n",
    "ax.set_ylabel(\"% of respondents\")"
   ]
  },
  {
   "cell_type": "markdown",
   "metadata": {},
   "source": [
    "Distributions of respondents size of organisation in terms of paid employees and number of volunteers"
   ]
  },
  {
   "cell_type": "code",
   "execution_count": 11,
   "metadata": {},
   "outputs": [
    {
     "ename": "NameError",
     "evalue": "name 'with_measures' is not defined",
     "output_type": "error",
     "traceback": [
      "\u001b[1;31m---------------------------------------------------------------------------\u001b[0m",
      "\u001b[1;31mNameError\u001b[0m                                 Traceback (most recent call last)",
      "\u001b[1;32m<ipython-input-11-2bb38385ddec>\u001b[0m in \u001b[0;36m<module>\u001b[1;34m\u001b[0m\n\u001b[0;32m      5\u001b[0m \u001b[0memployees\u001b[0m\u001b[1;33m.\u001b[0m\u001b[0mcolumns\u001b[0m\u001b[1;33m=\u001b[0m\u001b[1;33m[\u001b[0m\u001b[1;34m'Paid employees'\u001b[0m\u001b[1;33m]\u001b[0m\u001b[1;33m\u001b[0m\u001b[1;33m\u001b[0m\u001b[0m\n\u001b[0;32m      6\u001b[0m \u001b[0mvolunteers\u001b[0m\u001b[1;33m.\u001b[0m\u001b[0mcolumns\u001b[0m\u001b[1;33m=\u001b[0m\u001b[1;33m[\u001b[0m\u001b[1;34m'Volunteers'\u001b[0m\u001b[1;33m]\u001b[0m\u001b[1;33m\u001b[0m\u001b[1;33m\u001b[0m\u001b[0m\n\u001b[1;32m----> 7\u001b[1;33m \u001b[0mwith_measures\u001b[0m\u001b[1;33m\u001b[0m\u001b[1;33m\u001b[0m\u001b[0m\n\u001b[0m\u001b[0;32m      8\u001b[0m \u001b[1;33m\u001b[0m\u001b[0m\n\u001b[0;32m      9\u001b[0m \u001b[1;31m#Merge on indices\u001b[0m\u001b[1;33m\u001b[0m\u001b[1;33m\u001b[0m\u001b[1;33m\u001b[0m\u001b[0m\n",
      "\u001b[1;31mNameError\u001b[0m: name 'with_measures' is not defined"
     ]
    }
   ],
   "source": [
    "employees=pd.DataFrame(df['What is the approximate number of paid employees (full time equivalent) at your business/organisation?:Response'].value_counts())\n",
    "volunteers=pd.DataFrame(df['What is the approximate number of volunteers working with your business/organisation?:Response'].value_counts())\n",
    "\n",
    "\n",
    "employees.columns=['Paid employees']\n",
    "volunteers.columns=['Volunteers']\n",
    "with_measures\n",
    "\n",
    "#Merge on indices\n",
    "organisation_size=employees.merge(volunteers, left_index=True, right_index=True)\n",
    "\n",
    "organisation_size=organisation_size.reindex(['1-5','6-10','11-20', '21-50','51-100','101-500' ,'501+'])"
   ]
  },
  {
   "cell_type": "markdown",
   "metadata": {},
   "source": [
    "Chart of respondents organisation size in terms of numbers of paid employees and volunteers"
   ]
  },
  {
   "cell_type": "code",
   "execution_count": null,
   "metadata": {},
   "outputs": [],
   "source": [
    "axes = organisation_size.plot.bar(rot=45, subplots=True)\n",
    "axes[1].legend(loc=2)  "
   ]
  },
  {
   "cell_type": "markdown",
   "metadata": {},
   "source": [
    "# 3. The effects of Covid on respondents organisations"
   ]
  },
  {
   "cell_type": "code",
   "execution_count": null,
   "metadata": {},
   "outputs": [],
   "source": [
    "Effects=['Loss or postponement of work',\n",
    " 'Business-critical staff absence',\n",
    " 'Lack of available volunteers',\n",
    " 'Postponement/cancellation of planned income-generating or marketing events',\n",
    " 'Reduced opening/business hours',\n",
    " 'Supply chain problems',\n",
    " 'Increased overheads',\n",
    " 'Reduced visitor numbers',\n",
    " 'Have had to furlough staff',\n",
    " 'Have had to lay staff off',\n",
    " 'Additional costs e.g.  investment in IT/home working',\n",
    " 'Delayed payment by debtors']\n",
    "\n",
    "covid19_effects=table_producer(df[Effects], 'Covid 19 effects')\n",
    "covid19_effects"
   ]
  },
  {
   "cell_type": "markdown",
   "metadata": {},
   "source": [
    "Chart of percentage of respondents experiencing different impacts from Covid 19"
   ]
  },
  {
   "cell_type": "code",
   "execution_count": null,
   "metadata": {},
   "outputs": [],
   "source": [
    "ax = covid19_effects.plot.bar(x='Covid 19 effects', y='% of respondents', rot=90)\n",
    "ax.set_xlabel(\"Effects of Covid 19\")\n",
    "ax.set_ylabel(\"% of respondents\")"
   ]
  },
  {
   "cell_type": "markdown",
   "metadata": {},
   "source": [
    "Looks at the coocurrence of different issues  (should be reformatted)"
   ]
  },
  {
   "cell_type": "code",
   "execution_count": null,
   "metadata": {},
   "outputs": [],
   "source": [
    "results=cross_count(df[Effects])\n",
    "\n",
    "fig, ax = plt.subplots(figsize=(12,12))  \n",
    "sns.heatmap(results, annot=True,ax=ax, fmt='g')"
   ]
  },
  {
   "cell_type": "markdown",
   "metadata": {},
   "source": [
    "# 4. Counts the Covid mitigation measures organisations are expecting to engage with"
   ]
  },
  {
   "cell_type": "code",
   "execution_count": null,
   "metadata": {},
   "outputs": [],
   "source": [
    "Measures=['Coronavirus Job Retention Scheme',\n",
    " 'Deferring VAT and Self-Assessment payments',\n",
    " 'Self-employment Income Support Scheme',\n",
    " 'Statutory Sick Pay relief package for small and medium sized businesses (SMEs)',\n",
    " '12-month business rates holiday for all retail hospitality leisure and nursery businesses in England',\n",
    " 'Small business grant funding of £10000 for all business in receipt of small business rate relief or rural rate relief',\n",
    " 'Grant funding of £25000 for retail hospitality and leisure businesses with property with a rateable value between £15000 and £51000',\n",
    " 'Coronavirus Business Interruption Loan Scheme offering loans of up to £5 million for SMEs through the British Business Bank',\n",
    " 'Lending facility from the Bank of England to help support liquidity among larger firms helping them bridge coronavirus disruption to their cash flows through loans',\n",
    " 'HMRC Time To Pay Scheme',\n",
    " 'Awaiting further clarification of the Government support']\n",
    "\n",
    "\n",
    "Measures_expected=table_producer(df[Measures],'Expected Measures taken')\n",
    "Measures_expected"
   ]
  },
  {
   "cell_type": "markdown",
   "metadata": {},
   "source": [
    "Chart of the different government measures heritage organisations are expected to engage with"
   ]
  },
  {
   "cell_type": "code",
   "execution_count": null,
   "metadata": {},
   "outputs": [],
   "source": [
    "ax = Measures_expected.plot.bar(x='Expected Measures taken', y='% of respondents', rot=90)\n",
    "ax.set_xlabel(\"Government measures it is expected to use\")\n",
    "ax.set_ylabel(\"% of respondents\")"
   ]
  },
  {
   "cell_type": "markdown",
   "metadata": {},
   "source": [
    "Looks at the coocurrence of different schemes (should be reformatted and replaced with single function)"
   ]
  },
  {
   "cell_type": "code",
   "execution_count": null,
   "metadata": {},
   "outputs": [],
   "source": [
    "results=cross_count(df[Measures])\n",
    "\n",
    "fig, ax = plt.subplots(figsize=(12,12))  \n",
    "sns.heatmap(results, annot=True,ax=ax, fmt='g')"
   ]
  },
  {
   "cell_type": "markdown",
   "metadata": {},
   "source": [
    "# 5. Effect of Covid Lockdown with and without the support measures announced"
   ]
  },
  {
   "cell_type": "markdown",
   "metadata": {},
   "source": [
    "Table on respondents views of how long they would be operating for if current restrictions continue to September 2020 (with and without support measures)"
   ]
  },
  {
   "cell_type": "code",
   "execution_count": null,
   "metadata": {},
   "outputs": [],
   "source": [
    "with_measures=df['Continued operation if the current restrictions continue until September 2020 with measures:Response'].value_counts()\n",
    "\n",
    "without_measures=df['Continued operation if the current restrictions continue until September 2020 without measures:Response'].value_counts()\n",
    "\n",
    "without_measures=pd.DataFrame(without_measures)\n",
    "without_measures.columns=['Without measures']\n",
    "with_measures=pd.DataFrame(with_measures)\n",
    "with_measures.columns=['With measures']\n",
    "with_measures\n",
    "\n",
    "#Merge on indices\n",
    "with_without=without_measures.merge(with_measures, left_index=True, right_index=True)\n",
    "\n",
    "#Reindex by duration of operation\n",
    "with_without=with_without.reindex([\"Don’t know\",\"Less than one month\",\"1-2 months\",\"2-3 months\",\n",
    " \"3-4 months\", \"4-6 months\" ])\n",
    "\n",
    "with_without"
   ]
  },
  {
   "cell_type": "code",
   "execution_count": null,
   "metadata": {},
   "outputs": [],
   "source": [
    "ax =with_without.plot.bar(rot=45)\n",
    "ax.set_xlabel(\"Expected duration of continued operation if restrictions continue to September 2020\")\n",
    "ax.set_ylabel(\"Number of survey respondents\")"
   ]
  }
 ],
 "metadata": {
  "kernelspec": {
   "display_name": "Python 3",
   "language": "python",
   "name": "python3"
  },
  "language_info": {
   "codemirror_mode": {
    "name": "ipython",
    "version": 3
   },
   "file_extension": ".py",
   "mimetype": "text/x-python",
   "name": "python",
   "nbconvert_exporter": "python",
   "pygments_lexer": "ipython3",
   "version": "3.7.3"
  }
 },
 "nbformat": 4,
 "nbformat_minor": 2
}
